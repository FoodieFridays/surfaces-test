{
 "cells": [
  {
   "cell_type": "markdown",
   "id": "06eca93e",
   "metadata": {},
   "source": [
    "# Setup"
   ]
  },
  {
   "cell_type": "code",
   "execution_count": 5,
   "id": "a0c07bdd",
   "metadata": {},
   "outputs": [
    {
     "name": "stdout",
     "output_type": "stream",
     "text": [
      "[magic succeeded] mode = pretty\u001b[?2004h\n",
      "[magic succeeded] timeout = 10\u001b[?2004h\n",
      "\u001b[?2004h\n",
      "\u001b[?2004h\n",
      "\u001b[?2004l\r\n",
      "             3       1\n",
      "o5 : Matrix S  <--- S\n",
      "\u001b[?2004h"
     ]
    },
    {
     "data": {
      "text/html": [
       "<pre></pre><pre style=\"color: gray\"></pre>"
      ]
     },
     "execution_count": 5,
     "metadata": {},
     "output_type": "execute_result"
    }
   ],
   "source": [
    "S = QQ[x,y,z];\n",
    "f = x^2*y^2+y^2*z^2+z^2*x^2-101*x*y*z;\n",
    "partials = jacobian f;\n",
    "\n",
    "--%mode=pretty\n",
    "--%timeout=10"
   ]
  },
  {
   "cell_type": "markdown",
   "id": "032ce3c8",
   "metadata": {},
   "source": [
    "# Degree"
   ]
  },
  {
   "cell_type": "code",
   "execution_count": 6,
   "id": "7fed70d5",
   "metadata": {},
   "outputs": [
    {
     "data": {
      "text/html": [
       "<pre>\n",
       "4</pre><pre style=\"color: gray\">04h</pre>"
      ]
     },
     "execution_count": 6,
     "metadata": {},
     "output_type": "execute_result"
    }
   ],
   "source": [
    "(degree f)#0"
   ]
  },
  {
   "cell_type": "markdown",
   "id": "f0207216",
   "metadata": {},
   "source": [
    "# Milnor"
   ]
  },
  {
   "cell_type": "code",
   "execution_count": 12,
   "id": "b73666f1",
   "metadata": {},
   "outputs": [
    {
     "name": "stdout",
     "output_type": "stream",
     "text": [
      "{1, 1, 1, 1, 1, 1, 1, 2, 2, 2, 2, 2, 2}\n",
      "\u001b[?2004h\n",
      "{ideal (y, z), ideal (x, z), ideal (x, y), ideal (4z - 101, 4y - 101, 4x - 101), ideal (4z - 101, 4y + 101, 4x + 101), ideal (4z + 101, 4y - 101, 4x + 101), ideal (4z + 101, 4y + 101, 4x - 101), ideal (z, y, 2x - 101), ideal (z, y, 2x + 101), ideal (z, 2y - 101, x), ideal (z, 2y + 101, x), ideal (2z - 101, y, x), ideal (2z + 101, y, x)}\n",
      "\u001b[?2004h\n",
      "\u001b[?2004h\n",
      "(1, ideal (4z - 101, 4y - 101, 4x - 101))\n",
      "(1, ideal (4z - 101, 4y + 101, 4x + 101))\n",
      "(1, ideal (4z + 101, 4y - 101, 4x + 101))\n",
      "(1, ideal (4z + 101, 4y + 101, 4x - 101))\n",
      "\u001b[?2004h"
     ]
    },
    {
     "data": {
      "text/html": [
       "<pre></pre><pre style=\"color: gray\"></pre>"
      ]
     },
     "execution_count": 12,
     "metadata": {},
     "output_type": "execute_result"
    }
   ],
   "source": [
    "singularities = ideal partials\n",
    "pd = primaryDecomposition singularities\n",
    "print apply(pd, degree);\n",
    "print apply(pd, radical);\n",
    "onTheCurve = i -> ((i+ideal f) == promote(ideal 1, S));\n",
    "for i from 0 to #apply(pd, degree) - 1 do \n",
    "if (onTheCurve (pd#i)) then print ((apply(pd, degree))#i, (apply(pd, radical))#i)"
   ]
  },
  {
   "cell_type": "markdown",
   "id": "39a578b1",
   "metadata": {},
   "source": [
    "On the curve vs off the curve"
   ]
  },
  {
   "cell_type": "markdown",
   "id": "635fc027",
   "metadata": {},
   "source": [
    "# Tjurina"
   ]
  },
  {
   "cell_type": "code",
   "execution_count": 14,
   "id": "8cbdde39",
   "metadata": {},
   "outputs": [
    {
     "data": {
      "text/html": [
       "<pre>\n",
       "3</pre><pre style=\"color: gray\">4h</pre>"
      ]
     },
     "execution_count": 14,
     "metadata": {},
     "output_type": "execute_result"
    }
   ],
   "source": [
    "singularities = ideal partials + ideal f\n",
    "degree singularities"
   ]
  },
  {
   "cell_type": "markdown",
   "id": "e6448432",
   "metadata": {},
   "source": [
    "# Singular Points"
   ]
  },
  {
   "cell_type": "code",
   "execution_count": 24,
   "id": "d0b2fd17",
   "metadata": {
    "scrolled": false
   },
   "outputs": [
    {
     "name": "stdout",
     "output_type": "stream",
     "text": [
      "\u001b[?2004l\r\n",
      "o15 : Ideal of S\n",
      "\u001b[?2004h\n",
      "\u001b[?2004h\n",
      "\u001b[?2004h\n",
      "\u001b[?2004h\n",
      "\u001b[?2004h\n",
      "\u001b[?2004h\n",
      "                                                                    2                            2                            2                            2                            2                            2\n",
      "{ideal (z, y), ideal (z, x), ideal (y, x), ideal (y - z, 2x - 101, z ), ideal (y + z, 2x + 101, z ), ideal (2y - 101, x - z, z ), ideal (2y + 101, x + z, z ), ideal (2z - 101, x - y, y ), ideal (2z + 101, x + y, y )}\n",
      "\u001b[?2004h\n",
      "{ideal (y, x), ideal (z, x), ideal (z, y)}\n",
      "\u001b[?2004h\n",
      "/usr/local/lib/python3.10/dist-packages/m2_kernel/assets/m2-code/file.txt\n",
      "\u001b[?2004h"
     ]
    },
    {
     "data": {
      "text/html": [
       "<pre></pre><pre style=\"color: gray\"></pre>"
      ]
     },
     "execution_count": 24,
     "metadata": {},
     "output_type": "execute_result"
    }
   ],
   "source": [
    "singularities = ideal partials + ideal f;\n",
    "file = openOut \"file.txt\";\n",
    "-- file = \"file.txt\" << \"\"\n",
    "--file << (primaryDecomposition(singularities))_* << endl;\n",
    "--file << (primaryDecomposition radical ((ideal jacobian f) + ideal f))_* << endl;\n",
    "-- _* turns ideal (a, b) into list -> {a, b}\n",
    "\n",
    "pd = primaryDecomposition(singularities);\n",
    "for i from 0 to #pd - 1 do\n",
    "    file << toString (pd#i)_* << endl;\n",
    "\n",
    "pd = primaryDecomposition radical ((ideal jacobian f) + ideal f);\n",
    "for i from 0 to #pd - 1 do\n",
    "    file << toString (pd#i)_* << endl;\n",
    "file << close;\n",
    "\n",
    "\n",
    "print primaryDecomposition(singularities);\n",
    "print primaryDecomposition radical ((ideal jacobian f) + ideal f);\n",
    "print toAbsolutePath \"file.txt\"\n"
   ]
  },
  {
   "cell_type": "markdown",
   "id": "56bb5eee",
   "metadata": {},
   "source": [
    "Solve for 0"
   ]
  },
  {
   "cell_type": "markdown",
   "id": "2e097916",
   "metadata": {},
   "source": [
    "# Multiplicities"
   ]
  },
  {
   "cell_type": "markdown",
   "id": "f3cc446e",
   "metadata": {},
   "source": [
    "to add: homogenize and dehomogenize\n",
    "4 vars?"
   ]
  },
  {
   "cell_type": "markdown",
   "id": "8b03535f",
   "metadata": {},
   "source": [
    "# Delta Invariant"
   ]
  },
  {
   "cell_type": "code",
   "execution_count": 27,
   "id": "15cf7d54",
   "metadata": {},
   "outputs": [
    {
     "name": "stdout",
     "output_type": "stream",
     "text": [
      "\u001b[?2004h\n",
      "\u001b[?2004h"
     ]
    },
    {
     "data": {
      "text/html": [
       "<pre>\n",
       "2</pre><pre style=\"color: gray\">4h</pre>"
      ]
     },
     "execution_count": 27,
     "metadata": {},
     "output_type": "execute_result"
    }
   ],
   "source": [
    "f = x^2*y^2+y^2*z^2+z^2*x^2-x*y*z;\n",
    "f = (x-1)^2*y^2+y^2*z^2+z^2*(x-1)^2-(x-1)*y*z;\n",
    "\n",
    "degree(tangentCone(ideal f))"
   ]
  },
  {
   "cell_type": "markdown",
   "id": "23e34d51",
   "metadata": {},
   "source": [
    "acame8 — Today at 12:09 PM\n",
    "m_x is just the multiplicity of the singular point of x. I don't bother with the Taylor series way, and instead just skip ahead to the polynomial expansion way. Say the surface is given by f = x^3 + y^3 + z^3, if there is a singularity at [1:0:1], just centre the surface there and expand. So f = (x-1)^3 + (0)^3 + (z-1)^3, find the degree of the lowest terms (deg(tangentCone(f))) in M2, and that is m_x"
   ]
  },
  {
   "cell_type": "markdown",
   "id": "32604ee9",
   "metadata": {},
   "source": [
    "# Branching Number"
   ]
  },
  {
   "cell_type": "markdown",
   "id": "fa0616e0",
   "metadata": {},
   "source": [
    "milnor = 2 x delta - branching + 1 (vector?)\n",
    "\n",
    "## Not used for surfaces!"
   ]
  },
  {
   "cell_type": "markdown",
   "id": "8087d40b",
   "metadata": {},
   "source": [
    "# Genus"
   ]
  },
  {
   "cell_type": "code",
   "execution_count": null,
   "id": "512fd329",
   "metadata": {},
   "outputs": [],
   "source": [
    "-- arithmetic = binomial((degree f)#0-1, 2)\n",
    "-- g = arithmetic - delta"
   ]
  },
  {
   "cell_type": "markdown",
   "id": "e1f88292",
   "metadata": {},
   "source": [
    "## Not used for surfaces!"
   ]
  }
 ],
 "metadata": {
  "kernelspec": {
   "display_name": "M2",
   "language": "text/x-macaulay2",
   "name": "m2"
  },
  "language_info": {
   "codemirror_mode": "macaulay2",
   "file_extension": ".m2",
   "mimetype": "text/x-macaulay2",
   "name": "Macaulay2"
  }
 },
 "nbformat": 4,
 "nbformat_minor": 5
}
